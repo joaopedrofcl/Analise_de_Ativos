{
  "nbformat": 4,
  "nbformat_minor": 0,
  "metadata": {
    "colab": {
      "name": "analise_mdias.ipynb",
      "provenance": [],
      "authorship_tag": "ABX9TyMvHHx4WAMMiSFvWDaCTXSs",
      "include_colab_link": true
    },
    "kernelspec": {
      "name": "python3",
      "display_name": "Python 3"
    },
    "language_info": {
      "name": "python"
    }
  },
  "cells": [
    {
      "cell_type": "markdown",
      "metadata": {
        "id": "view-in-github",
        "colab_type": "text"
      },
      "source": [
        "<a href=\"https://colab.research.google.com/github/joaopedrofcl/Analise_de_Ativos/blob/main/analise_mdias.ipynb\" target=\"_parent\"><img src=\"https://colab.research.google.com/assets/colab-badge.svg\" alt=\"Open In Colab\"/></a>"
      ]
    },
    {
      "cell_type": "markdown",
      "metadata": {
        "id": "isg-HfBrig1L"
      },
      "source": [
        "**MODULOS UTLITIZADOS**\n",
        "\n",
        "> Links para as documentações\n",
        "\n",
        "1. pandas - https://pandas.pydata.org/\n",
        "2. matplotlib -  https://matplotlib.org/\n",
        "3. statsmodels - https://www.statsmodels.org/stable/index.html\n",
        "4. yfinance - https://pypi.org/project/yfinance/"
      ]
    },
    {
      "cell_type": "code",
      "metadata": {
        "id": "HSM_QVFjQlzy"
      },
      "source": [
        "#O yfinace necessita ser baixado\n",
        "#Caso o notebook usado seja outro, todos esses modulos precisam ser baixados\n",
        "import pandas as pd\n",
        "import matplotlib.pyplot as plt\n",
        "from statsmodels.tsa.seasonal import seasonal_decompose\n",
        "import yfinance as yf"
      ],
      "execution_count": 4,
      "outputs": []
    },
    {
      "cell_type": "markdown",
      "metadata": {
        "id": "1nfsJggskMQb"
      },
      "source": [
        "### Requisição dos dados"
      ]
    },
    {
      "cell_type": "code",
      "metadata": {
        "id": "sPaNiz0MeJkt"
      },
      "source": [
        "#esse comando extrai as informações de determinada ação no yahoo finance\n",
        "ticket = yf.Ticker('MDIA')\n",
        "#esse comando criou um data frame que  mostra o histórico dos resultodoas diarios dentro do periodo especificado\n",
        "mdias_df = ticket.history(interval = '1d' , start = '2020-03-21' , end = '2021-10-28')\n"
      ],
      "execution_count": 10,
      "outputs": []
    },
    {
      "cell_type": "code",
      "metadata": {
        "colab": {
          "base_uri": "https://localhost:8080/",
          "height": 450
        },
        "id": "QSkk8bDuhaAN",
        "outputId": "f6573613-ed1c-4a82-fac7-0a973340ec57"
      },
      "source": [
        "display(mdias_df)"
      ],
      "execution_count": 11,
      "outputs": [
        {
          "output_type": "display_data",
          "data": {
            "text/html": [
              "<div>\n",
              "<style scoped>\n",
              "    .dataframe tbody tr th:only-of-type {\n",
              "        vertical-align: middle;\n",
              "    }\n",
              "\n",
              "    .dataframe tbody tr th {\n",
              "        vertical-align: top;\n",
              "    }\n",
              "\n",
              "    .dataframe thead th {\n",
              "        text-align: right;\n",
              "    }\n",
              "</style>\n",
              "<table border=\"1\" class=\"dataframe\">\n",
              "  <thead>\n",
              "    <tr style=\"text-align: right;\">\n",
              "      <th></th>\n",
              "      <th>Open</th>\n",
              "      <th>High</th>\n",
              "      <th>Low</th>\n",
              "      <th>Close</th>\n",
              "      <th>Volume</th>\n",
              "      <th>Dividends</th>\n",
              "      <th>Stock Splits</th>\n",
              "    </tr>\n",
              "    <tr>\n",
              "      <th>Date</th>\n",
              "      <th></th>\n",
              "      <th></th>\n",
              "      <th></th>\n",
              "      <th></th>\n",
              "      <th></th>\n",
              "      <th></th>\n",
              "      <th></th>\n",
              "    </tr>\n",
              "  </thead>\n",
              "  <tbody>\n",
              "    <tr>\n",
              "      <th>2020-03-23</th>\n",
              "      <td>3.19</td>\n",
              "      <td>3.680</td>\n",
              "      <td>3.15</td>\n",
              "      <td>3.15</td>\n",
              "      <td>6000</td>\n",
              "      <td>0</td>\n",
              "      <td>0</td>\n",
              "    </tr>\n",
              "    <tr>\n",
              "      <th>2020-03-24</th>\n",
              "      <td>3.01</td>\n",
              "      <td>3.580</td>\n",
              "      <td>3.01</td>\n",
              "      <td>3.58</td>\n",
              "      <td>14800</td>\n",
              "      <td>0</td>\n",
              "      <td>0</td>\n",
              "    </tr>\n",
              "    <tr>\n",
              "      <th>2020-03-25</th>\n",
              "      <td>3.03</td>\n",
              "      <td>3.830</td>\n",
              "      <td>3.03</td>\n",
              "      <td>3.50</td>\n",
              "      <td>4000</td>\n",
              "      <td>0</td>\n",
              "      <td>0</td>\n",
              "    </tr>\n",
              "    <tr>\n",
              "      <th>2020-03-26</th>\n",
              "      <td>3.59</td>\n",
              "      <td>4.000</td>\n",
              "      <td>3.50</td>\n",
              "      <td>4.00</td>\n",
              "      <td>2600</td>\n",
              "      <td>0</td>\n",
              "      <td>0</td>\n",
              "    </tr>\n",
              "    <tr>\n",
              "      <th>2020-03-27</th>\n",
              "      <td>4.00</td>\n",
              "      <td>4.000</td>\n",
              "      <td>4.00</td>\n",
              "      <td>4.00</td>\n",
              "      <td>0</td>\n",
              "      <td>0</td>\n",
              "      <td>0</td>\n",
              "    </tr>\n",
              "    <tr>\n",
              "      <th>...</th>\n",
              "      <td>...</td>\n",
              "      <td>...</td>\n",
              "      <td>...</td>\n",
              "      <td>...</td>\n",
              "      <td>...</td>\n",
              "      <td>...</td>\n",
              "      <td>...</td>\n",
              "    </tr>\n",
              "    <tr>\n",
              "      <th>2021-10-21</th>\n",
              "      <td>7.77</td>\n",
              "      <td>9.170</td>\n",
              "      <td>7.71</td>\n",
              "      <td>8.03</td>\n",
              "      <td>1024400</td>\n",
              "      <td>0</td>\n",
              "      <td>0</td>\n",
              "    </tr>\n",
              "    <tr>\n",
              "      <th>2021-10-22</th>\n",
              "      <td>8.17</td>\n",
              "      <td>10.361</td>\n",
              "      <td>8.02</td>\n",
              "      <td>8.92</td>\n",
              "      <td>1766200</td>\n",
              "      <td>0</td>\n",
              "      <td>0</td>\n",
              "    </tr>\n",
              "    <tr>\n",
              "      <th>2021-10-25</th>\n",
              "      <td>8.99</td>\n",
              "      <td>9.340</td>\n",
              "      <td>8.49</td>\n",
              "      <td>8.58</td>\n",
              "      <td>361900</td>\n",
              "      <td>0</td>\n",
              "      <td>0</td>\n",
              "    </tr>\n",
              "    <tr>\n",
              "      <th>2021-10-26</th>\n",
              "      <td>8.53</td>\n",
              "      <td>8.827</td>\n",
              "      <td>8.18</td>\n",
              "      <td>8.36</td>\n",
              "      <td>176000</td>\n",
              "      <td>0</td>\n",
              "      <td>0</td>\n",
              "    </tr>\n",
              "    <tr>\n",
              "      <th>2021-10-27</th>\n",
              "      <td>8.35</td>\n",
              "      <td>8.500</td>\n",
              "      <td>8.08</td>\n",
              "      <td>8.25</td>\n",
              "      <td>86700</td>\n",
              "      <td>0</td>\n",
              "      <td>0</td>\n",
              "    </tr>\n",
              "  </tbody>\n",
              "</table>\n",
              "<p>405 rows × 7 columns</p>\n",
              "</div>"
            ],
            "text/plain": [
              "            Open    High   Low  Close   Volume  Dividends  Stock Splits\n",
              "Date                                                                   \n",
              "2020-03-23  3.19   3.680  3.15   3.15     6000          0             0\n",
              "2020-03-24  3.01   3.580  3.01   3.58    14800          0             0\n",
              "2020-03-25  3.03   3.830  3.03   3.50     4000          0             0\n",
              "2020-03-26  3.59   4.000  3.50   4.00     2600          0             0\n",
              "2020-03-27  4.00   4.000  4.00   4.00        0          0             0\n",
              "...          ...     ...   ...    ...      ...        ...           ...\n",
              "2021-10-21  7.77   9.170  7.71   8.03  1024400          0             0\n",
              "2021-10-22  8.17  10.361  8.02   8.92  1766200          0             0\n",
              "2021-10-25  8.99   9.340  8.49   8.58   361900          0             0\n",
              "2021-10-26  8.53   8.827  8.18   8.36   176000          0             0\n",
              "2021-10-27  8.35   8.500  8.08   8.25    86700          0             0\n",
              "\n",
              "[405 rows x 7 columns]"
            ]
          },
          "metadata": {}
        }
      ]
    },
    {
      "cell_type": "markdown",
      "metadata": {
        "id": "0VEWCzByk4HH"
      },
      "source": [
        "## Decomposição dos Dados "
      ]
    },
    {
      "cell_type": "code",
      "metadata": {
        "id": "v0uoy5kflRVB"
      },
      "source": [
        ""
      ],
      "execution_count": null,
      "outputs": []
    }
  ]
}